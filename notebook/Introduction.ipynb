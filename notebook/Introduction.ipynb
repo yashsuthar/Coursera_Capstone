{
 "cells": [
  {
   "cell_type": "markdown",
   "metadata": {},
   "source": [
    "# Final Report | Capstone Project –Business Explorer"
   ]
  },
  {
   "cell_type": "markdown",
   "metadata": {},
   "source": [
    "## Introduction"
   ]
  },
  {
   "cell_type": "markdown",
   "metadata": {},
   "source": [
    "In any city if someone is looking to open a restaurant then where would you recommend that they open it?Similarly, if a contractor is trying to start their own business, where would you recommend that they setup their office?.These above questions define our business problem in other words find location or near by area in neighbourhoods in city of our choice.Like example definitely person chooses a location or area  for open a restaurant where clothing store or other shops, or colleges, bus stations means that frequency of traffic areas is very high but if number of restaurant is very high then this area is not suitable. looking individual and then find number of different venue category and also frequency of each venue category is really difficult task for understanding factors for choosing a location area for open a restaurant, other shops, store"
   ]
  },
  {
   "cell_type": "markdown",
   "metadata": {},
   "source": [
    "## Business problem"
   ]
  },
  {
   "cell_type": "markdown",
   "metadata": {},
   "source": [
    "Now a days it's very difficult to find location or area where to open a restaurant not only restaurant bot also other shops or gym, general stores because location is primary factors to start a new business it's definitely affect your business if you didn't choose a right location objective of this capstone project to analyse and select best location in the city of delhi to open a restaurant or other Business services.\n",
    "using data science methodology and machine learning technique like clustering this project aims to provide solution to answer Business question in city of delhi, india."
   ]
  },
  {
   "cell_type": "markdown",
   "metadata": {},
   "source": [
    "## Target Audience of this project"
   ]
  },
  {
   "cell_type": "markdown",
   "metadata": {},
   "source": [
    "This project a perticulary useful to shopkeeper and investor,  looking to open or invest in new kirana stores, clothing stores or other business services in delhi capital city of india not only shopkeeper but also those who want to open something new. if a person knows near by frequency of restaurants, shops, or general stores, then definitely will select best location for new business services."
   ]
  },
  {
   "cell_type": "markdown",
   "metadata": {},
   "source": [
    "## problem solution"
   ]
  },
  {
   "cell_type": "markdown",
   "metadata": {},
   "source": [
    "This Project aim to analyse near by area in neighbourhoods in the city of Delhi (we choose Delhi city for our problem) means that find popular venues in near by area in neighbourhoods in Delhi (popular venues like clothing store, gym, bus stations, other restaurant). And then segmenting or clustering neighbourhoods in Delhi based on neighbourhoods information (number of different popular venues category).And then finally represent each clusters in graph form like bar charts means that person can easily choose a clusters (group of neighbourhoods area) based on requirements and then finally person can easily explore borough or neighbourhoods areas in selected cluster."
   ]
  },
  {
   "cell_type": "code",
   "execution_count": null,
   "metadata": {},
   "outputs": [],
   "source": []
  }
 ],
 "metadata": {
  "kernelspec": {
   "display_name": "Python 3",
   "language": "python",
   "name": "python3"
  },
  "language_info": {
   "codemirror_mode": {
    "name": "ipython",
    "version": 3
   },
   "file_extension": ".py",
   "mimetype": "text/x-python",
   "name": "python",
   "nbconvert_exporter": "python",
   "pygments_lexer": "ipython3",
   "version": "3.8.3"
  }
 },
 "nbformat": 4,
 "nbformat_minor": 4
}
