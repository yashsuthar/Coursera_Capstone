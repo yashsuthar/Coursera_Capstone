{
 "cells": [
  {
   "cell_type": "markdown",
   "metadata": {},
   "source": [
    "# Final Report | Capstone Project –Business Explorer"
   ]
  },
  {
   "cell_type": "markdown",
   "metadata": {},
   "source": [
    "## Data Section:"
   ]
  },
  {
   "cell_type": "markdown",
   "metadata": {},
   "source": [
    "[Data link for wikipedia page](https://en.wikipedia.org/wiki/List_of_neighbourhoods_of_Delhi) This is wikipedia page and we need to scrap this wikipedia page using python packages for web scarping like BeautifulSoup, lxml.But Delhi neighbourhoods dataset already present on kaggle website. In this project we download Delhi Neighbourhoods dataset from Kaggle website.Data link [data link for delhi neighborhood dataset](https://www.kaggle.com/shaswatd673/delhi-neighborhood-data)."
   ]
  },
  {
   "cell_type": "markdown",
   "metadata": {},
   "source": [
    "### Data Descriptions:"
   ]
  },
  {
   "cell_type": "markdown",
   "metadata": {},
   "source": [
    "simply data section part retrive list of borough, neighborhoods in the city of delhi.\n",
    "1. Borough\n",
    "2. Neighborhoods\n",
    "3. Neighborhoods latitude (geographical coordinates for finding exact location) \n",
    "4. Neighborhoods longitude (geographical coordinates for finding exact location)"
   ]
  },
  {
   "cell_type": "markdown",
   "metadata": {},
   "source": [
    "this four column in our datasets if we didn't find geographical coordinates then we can also use python packages (geopy) geolocator to convert address in string format in to latitude or longitude  and then based on these geographical coordinates fetch popular venue category(like clothing store, indian restaurant) in neighborhoods."
   ]
  },
  {
   "cell_type": "markdown",
   "metadata": {},
   "source": [
    "### Foursquare API Data:"
   ]
  },
  {
   "cell_type": "markdown",
   "metadata": {},
   "source": [
    "We will need data about different venues in different neighbourhoods of that specific borough. In order to gain that information we will use \"Foursquare\" locational information. Foursquare is a location data provider with information about all manner of venues and events within an area of interest. Such information includes venue names, locations, menus and even photos. As such, the foursquare location platform will be used as the sole data source since all the stated required information can be obtained through the API.After finding the list of neighbourhoods, we then connect to the Foursquare API to gather information about venues inside each and every neighbourhood. For each neighbourhood, we have chosen the radius to be 500 meter.The data retrieved from Foursquare contained information of venues within a specified distance of the longitude and latitude of the postcodes. The information obtained per venue as follows:"
   ]
  },
  {
   "cell_type": "markdown",
   "metadata": {},
   "source": [
    "1. Borough\n",
    "2. Neighbourhood\n",
    "3. Neighbourhood Latitude\n",
    "4. Neighbourhood Longitude\n",
    "5. Venue\n",
    "6. Name of the venue e.g. the name of a store or restaurant\n",
    "7. Venue Latitude\n",
    "8. Venue Longitude\n",
    "9. Venue Category"
   ]
  },
  {
   "cell_type": "code",
   "execution_count": null,
   "metadata": {},
   "outputs": [],
   "source": []
  }
 ],
 "metadata": {
  "kernelspec": {
   "display_name": "Python 3",
   "language": "python",
   "name": "python3"
  },
  "language_info": {
   "codemirror_mode": {
    "name": "ipython",
    "version": 3
   },
   "file_extension": ".py",
   "mimetype": "text/x-python",
   "name": "python",
   "nbconvert_exporter": "python",
   "pygments_lexer": "ipython3",
   "version": "3.8.3"
  }
 },
 "nbformat": 4,
 "nbformat_minor": 4
}
